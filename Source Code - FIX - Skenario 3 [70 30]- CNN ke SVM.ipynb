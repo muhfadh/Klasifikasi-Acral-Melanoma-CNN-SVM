{
 "cells": [
  {
   "cell_type": "markdown",
   "metadata": {},
   "source": [
    "### Code untuk di Jupyter notebook"
   ]
  },
  {
   "cell_type": "code",
   "execution_count": 1,
   "metadata": {},
   "outputs": [
    {
     "name": "stdout",
     "output_type": "stream",
     "text": [
      "D:\\SEMESTER 7\\Pembelajaran Mesin\\Dataset\\process image-3 [70 30]\n"
     ]
    }
   ],
   "source": [
    "%cd D:\\SEMESTER 7\\Pembelajaran Mesin\\Dataset\\process image-3 [70 30]"
   ]
  },
  {
   "cell_type": "code",
   "execution_count": 2,
   "metadata": {},
   "outputs": [
    {
     "name": "stdout",
     "output_type": "stream",
     "text": [
      " Volume in drive D is Data\n",
      " Volume Serial Number is BC6D-4CE5\n",
      "\n",
      " Directory of D:\\SEMESTER 7\\Pembelajaran Mesin\\Dataset\\process image-3 [70 30]\n",
      "\n",
      "13/12/2022  23:50    <DIR>          .\n",
      "13/12/2022  23:50    <DIR>          ..\n",
      "14/12/2022  00:41        19.046.272 model_K1S3.h5\n",
      "14/12/2022  00:49        15.484.443 model_svm_K2S3.pkl\n",
      "13/12/2021  14:33    <DIR>          testing\n",
      "13/12/2021  14:33    <DIR>          training\n",
      "               2 File(s)     34.530.715 bytes\n",
      "               4 Dir(s)  517.686.501.376 bytes free\n"
     ]
    }
   ],
   "source": [
    "%ls"
   ]
  },
  {
   "cell_type": "code",
   "execution_count": 3,
   "metadata": {
    "colab": {
     "base_uri": "https://localhost:8080/"
    },
    "id": "TEcBa0Gz1MmB",
    "outputId": "f15277d6-a608-4d27-e80f-9d90dbbc6f22"
   },
   "outputs": [],
   "source": [
    "import os\n",
    "# path di jupyter\n",
    "base_dataset = 'D:/SEMESTER 7/Pembelajaran Mesin/Dataset/process image-3 [70 30]/'"
   ]
  },
  {
   "cell_type": "code",
   "execution_count": 4,
   "metadata": {
    "pycharm": {
     "name": "#%%\n"
    }
   },
   "outputs": [],
   "source": [
    "# inisialisasi direktori data train dan validasi beserta data per kategori\n",
    "dir1 = [r'D:/SEMESTER 7/Pembelajaran Mesin/Dataset/process image-3 [70 30]/training/acral melanoma/',\n",
    "        r'D:/SEMESTER 7/Pembelajaran Mesin/Dataset/process image-3 [70 30]/testing/acral melanoma/',\n",
    "        r'D:/SEMESTER 7/Pembelajaran Mesin/Dataset/process image-3 [70 30]/training/benign nevi/',\n",
    "        r'D:/SEMESTER 7/Pembelajaran Mesin/Dataset/process image-3 [70 30]/testing/benign nevi/']"
   ]
  },
  {
   "cell_type": "markdown",
   "metadata": {},
   "source": [
    "# CNN Feature Extraction"
   ]
  },
  {
   "cell_type": "code",
   "execution_count": 5,
   "metadata": {},
   "outputs": [],
   "source": [
    "%matplotlib inline\n",
    "from keras.preprocessing import image\n",
    "from keras.models import Model\n",
    "from keras.layers import Input\n",
    "from keras.layers import Dense\n",
    "from keras.layers import Flatten, Dropout \n",
    "from keras.layers.convolutional import Conv2D\n",
    "from keras.layers.pooling import MaxPooling2D\n",
    "from keras.layers.merge import concatenate\n",
    "from PIL import Image\n",
    "\n",
    "import numpy as np\n",
    "from numpy import linalg as LA\n",
    "import matplotlib.pyplot as plt\n",
    "import matplotlib.image as mpimg\n",
    "import time\n",
    "import os"
   ]
  },
  {
   "cell_type": "code",
   "execution_count": 6,
   "metadata": {},
   "outputs": [],
   "source": [
    "def preprocess(img,input_size):\n",
    "    nimg = img.convert('RGB').resize(input_size)\n",
    "    img_arr = (np.array(nimg))\n",
    "    return img_arr\n",
    "\n",
    "def reshape(imgs_arr):\n",
    "    return np.stack(imgs_arr, axis=0)\n",
    "\n",
    "def get_imlist(path):\n",
    "    return [os.path.join(path,f) for f in os.listdir(path) if f.endswith('.jpg') or f.endswith('.jpeg') or f.endswith('.JPG') or f.endswith('.JPEG')]\n",
    "\n",
    "def preprocess_norm(img_path):\n",
    "    im = Image.open(img_path)\n",
    "    X = preprocess(im,(224,224))\n",
    "    X = reshape([X])\n",
    "    info = np.iinfo(X.dtype) # Get the information of the incoming image type\n",
    "    data = X.astype(np.float32) / info.max # normalize the data to 0 - 1\n",
    "    return data"
   ]
  },
  {
   "cell_type": "code",
   "execution_count": 7,
   "metadata": {},
   "outputs": [],
   "source": [
    "from keras.models import load_model\n",
    "loaded_model = load_model('model_K1S3.h5')\n",
    "model = Model(inputs=loaded_model.input, outputs=loaded_model.layers[-2].output)"
   ]
  },
  {
   "cell_type": "code",
   "execution_count": 8,
   "metadata": {},
   "outputs": [
    {
     "name": "stdout",
     "output_type": "stream",
     "text": [
      "extracting feature from image No. 1 , 105 images in total\n",
      "extracting feature from image No. 2 , 105 images in total\n",
      "extracting feature from image No. 3 , 105 images in total\n",
      "extracting feature from image No. 4 , 105 images in total\n",
      "extracting feature from image No. 5 , 105 images in total\n",
      "extracting feature from image No. 6 , 105 images in total\n",
      "extracting feature from image No. 7 , 105 images in total\n",
      "extracting feature from image No. 8 , 105 images in total\n",
      "extracting feature from image No. 9 , 105 images in total\n",
      "extracting feature from image No. 10 , 105 images in total\n",
      "extracting feature from image No. 11 , 105 images in total\n",
      "extracting feature from image No. 12 , 105 images in total\n",
      "extracting feature from image No. 13 , 105 images in total\n",
      "extracting feature from image No. 14 , 105 images in total\n",
      "extracting feature from image No. 15 , 105 images in total\n",
      "extracting feature from image No. 16 , 105 images in total\n",
      "extracting feature from image No. 17 , 105 images in total\n",
      "extracting feature from image No. 18 , 105 images in total\n",
      "extracting feature from image No. 19 , 105 images in total\n",
      "extracting feature from image No. 20 , 105 images in total\n",
      "extracting feature from image No. 21 , 105 images in total\n",
      "extracting feature from image No. 22 , 105 images in total\n",
      "extracting feature from image No. 23 , 105 images in total\n",
      "extracting feature from image No. 24 , 105 images in total\n",
      "extracting feature from image No. 25 , 105 images in total\n",
      "extracting feature from image No. 26 , 105 images in total\n",
      "extracting feature from image No. 27 , 105 images in total\n",
      "extracting feature from image No. 28 , 105 images in total\n",
      "extracting feature from image No. 29 , 105 images in total\n",
      "extracting feature from image No. 30 , 105 images in total\n",
      "extracting feature from image No. 31 , 105 images in total\n",
      "extracting feature from image No. 32 , 105 images in total\n",
      "extracting feature from image No. 33 , 105 images in total\n",
      "extracting feature from image No. 34 , 105 images in total\n",
      "extracting feature from image No. 35 , 105 images in total\n",
      "extracting feature from image No. 36 , 105 images in total\n",
      "extracting feature from image No. 37 , 105 images in total\n",
      "extracting feature from image No. 38 , 105 images in total\n",
      "extracting feature from image No. 39 , 105 images in total\n",
      "extracting feature from image No. 40 , 105 images in total\n",
      "extracting feature from image No. 41 , 105 images in total\n",
      "extracting feature from image No. 42 , 105 images in total\n",
      "extracting feature from image No. 43 , 105 images in total\n",
      "extracting feature from image No. 44 , 105 images in total\n",
      "extracting feature from image No. 45 , 105 images in total\n",
      "extracting feature from image No. 46 , 105 images in total\n",
      "extracting feature from image No. 47 , 105 images in total\n",
      "extracting feature from image No. 48 , 105 images in total\n",
      "extracting feature from image No. 49 , 105 images in total\n",
      "extracting feature from image No. 50 , 105 images in total\n",
      "extracting feature from image No. 51 , 105 images in total\n",
      "extracting feature from image No. 52 , 105 images in total\n",
      "extracting feature from image No. 53 , 105 images in total\n",
      "extracting feature from image No. 54 , 105 images in total\n",
      "extracting feature from image No. 55 , 105 images in total\n",
      "extracting feature from image No. 56 , 105 images in total\n",
      "extracting feature from image No. 57 , 105 images in total\n",
      "extracting feature from image No. 58 , 105 images in total\n",
      "extracting feature from image No. 59 , 105 images in total\n",
      "extracting feature from image No. 60 , 105 images in total\n",
      "extracting feature from image No. 61 , 105 images in total\n",
      "extracting feature from image No. 62 , 105 images in total\n",
      "extracting feature from image No. 63 , 105 images in total\n",
      "extracting feature from image No. 64 , 105 images in total\n",
      "extracting feature from image No. 65 , 105 images in total\n",
      "extracting feature from image No. 66 , 105 images in total\n",
      "extracting feature from image No. 67 , 105 images in total\n",
      "extracting feature from image No. 68 , 105 images in total\n",
      "extracting feature from image No. 69 , 105 images in total\n",
      "extracting feature from image No. 70 , 105 images in total\n",
      "extracting feature from image No. 71 , 105 images in total\n",
      "extracting feature from image No. 72 , 105 images in total\n",
      "extracting feature from image No. 73 , 105 images in total\n",
      "extracting feature from image No. 74 , 105 images in total\n",
      "extracting feature from image No. 75 , 105 images in total\n",
      "extracting feature from image No. 76 , 105 images in total\n",
      "extracting feature from image No. 77 , 105 images in total\n",
      "extracting feature from image No. 78 , 105 images in total\n",
      "extracting feature from image No. 79 , 105 images in total\n",
      "extracting feature from image No. 80 , 105 images in total\n",
      "extracting feature from image No. 81 , 105 images in total\n",
      "extracting feature from image No. 82 , 105 images in total\n",
      "extracting feature from image No. 83 , 105 images in total\n",
      "extracting feature from image No. 84 , 105 images in total\n",
      "extracting feature from image No. 85 , 105 images in total\n",
      "extracting feature from image No. 86 , 105 images in total\n",
      "extracting feature from image No. 87 , 105 images in total\n",
      "extracting feature from image No. 88 , 105 images in total\n",
      "extracting feature from image No. 89 , 105 images in total\n",
      "extracting feature from image No. 90 , 105 images in total\n",
      "extracting feature from image No. 91 , 105 images in total\n",
      "extracting feature from image No. 92 , 105 images in total\n",
      "extracting feature from image No. 93 , 105 images in total\n",
      "extracting feature from image No. 94 , 105 images in total\n",
      "extracting feature from image No. 95 , 105 images in total\n",
      "extracting feature from image No. 96 , 105 images in total\n",
      "extracting feature from image No. 97 , 105 images in total\n",
      "extracting feature from image No. 98 , 105 images in total\n",
      "extracting feature from image No. 99 , 105 images in total\n",
      "extracting feature from image No. 100 , 105 images in total\n",
      "extracting feature from image No. 101 , 105 images in total\n",
      "extracting feature from image No. 102 , 105 images in total\n",
      "extracting feature from image No. 103 , 105 images in total\n",
      "extracting feature from image No. 104 , 105 images in total\n",
      "extracting feature from image No. 105 , 105 images in total\n",
      "extracting feature from image No. 1 , 112 images in total\n",
      "extracting feature from image No. 2 , 112 images in total\n",
      "extracting feature from image No. 3 , 112 images in total\n",
      "extracting feature from image No. 4 , 112 images in total\n",
      "extracting feature from image No. 5 , 112 images in total\n",
      "extracting feature from image No. 6 , 112 images in total\n",
      "extracting feature from image No. 7 , 112 images in total\n",
      "extracting feature from image No. 8 , 112 images in total\n",
      "extracting feature from image No. 9 , 112 images in total\n",
      "extracting feature from image No. 10 , 112 images in total\n",
      "extracting feature from image No. 11 , 112 images in total\n",
      "extracting feature from image No. 12 , 112 images in total\n",
      "extracting feature from image No. 13 , 112 images in total\n",
      "extracting feature from image No. 14 , 112 images in total\n",
      "extracting feature from image No. 15 , 112 images in total\n",
      "extracting feature from image No. 16 , 112 images in total\n",
      "extracting feature from image No. 17 , 112 images in total\n",
      "extracting feature from image No. 18 , 112 images in total\n",
      "extracting feature from image No. 19 , 112 images in total\n",
      "extracting feature from image No. 20 , 112 images in total\n",
      "extracting feature from image No. 21 , 112 images in total\n",
      "extracting feature from image No. 22 , 112 images in total\n",
      "extracting feature from image No. 23 , 112 images in total\n",
      "extracting feature from image No. 24 , 112 images in total\n",
      "extracting feature from image No. 25 , 112 images in total\n",
      "extracting feature from image No. 26 , 112 images in total\n",
      "extracting feature from image No. 27 , 112 images in total\n",
      "extracting feature from image No. 28 , 112 images in total\n",
      "extracting feature from image No. 29 , 112 images in total\n",
      "extracting feature from image No. 30 , 112 images in total\n",
      "extracting feature from image No. 31 , 112 images in total\n",
      "extracting feature from image No. 32 , 112 images in total\n",
      "extracting feature from image No. 33 , 112 images in total\n",
      "extracting feature from image No. 34 , 112 images in total\n",
      "extracting feature from image No. 35 , 112 images in total\n",
      "extracting feature from image No. 36 , 112 images in total\n"
     ]
    },
    {
     "name": "stdout",
     "output_type": "stream",
     "text": [
      "extracting feature from image No. 37 , 112 images in total\n",
      "extracting feature from image No. 38 , 112 images in total\n",
      "extracting feature from image No. 39 , 112 images in total\n",
      "extracting feature from image No. 40 , 112 images in total\n",
      "extracting feature from image No. 41 , 112 images in total\n",
      "extracting feature from image No. 42 , 112 images in total\n",
      "extracting feature from image No. 43 , 112 images in total\n",
      "extracting feature from image No. 44 , 112 images in total\n",
      "extracting feature from image No. 45 , 112 images in total\n",
      "extracting feature from image No. 46 , 112 images in total\n",
      "extracting feature from image No. 47 , 112 images in total\n",
      "extracting feature from image No. 48 , 112 images in total\n",
      "extracting feature from image No. 49 , 112 images in total\n",
      "extracting feature from image No. 50 , 112 images in total\n",
      "extracting feature from image No. 51 , 112 images in total\n",
      "extracting feature from image No. 52 , 112 images in total\n",
      "extracting feature from image No. 53 , 112 images in total\n",
      "extracting feature from image No. 54 , 112 images in total\n",
      "extracting feature from image No. 55 , 112 images in total\n",
      "extracting feature from image No. 56 , 112 images in total\n",
      "extracting feature from image No. 57 , 112 images in total\n",
      "extracting feature from image No. 58 , 112 images in total\n",
      "extracting feature from image No. 59 , 112 images in total\n",
      "extracting feature from image No. 60 , 112 images in total\n",
      "extracting feature from image No. 61 , 112 images in total\n",
      "extracting feature from image No. 62 , 112 images in total\n",
      "extracting feature from image No. 63 , 112 images in total\n",
      "extracting feature from image No. 64 , 112 images in total\n",
      "extracting feature from image No. 65 , 112 images in total\n",
      "extracting feature from image No. 66 , 112 images in total\n",
      "extracting feature from image No. 67 , 112 images in total\n",
      "extracting feature from image No. 68 , 112 images in total\n",
      "extracting feature from image No. 69 , 112 images in total\n",
      "extracting feature from image No. 70 , 112 images in total\n",
      "extracting feature from image No. 71 , 112 images in total\n",
      "extracting feature from image No. 72 , 112 images in total\n",
      "extracting feature from image No. 73 , 112 images in total\n",
      "extracting feature from image No. 74 , 112 images in total\n",
      "extracting feature from image No. 75 , 112 images in total\n",
      "extracting feature from image No. 76 , 112 images in total\n",
      "extracting feature from image No. 77 , 112 images in total\n",
      "extracting feature from image No. 78 , 112 images in total\n",
      "extracting feature from image No. 79 , 112 images in total\n",
      "extracting feature from image No. 80 , 112 images in total\n",
      "extracting feature from image No. 81 , 112 images in total\n",
      "extracting feature from image No. 82 , 112 images in total\n",
      "extracting feature from image No. 83 , 112 images in total\n",
      "extracting feature from image No. 84 , 112 images in total\n",
      "extracting feature from image No. 85 , 112 images in total\n",
      "extracting feature from image No. 86 , 112 images in total\n",
      "extracting feature from image No. 87 , 112 images in total\n",
      "extracting feature from image No. 88 , 112 images in total\n",
      "extracting feature from image No. 89 , 112 images in total\n",
      "extracting feature from image No. 90 , 112 images in total\n",
      "extracting feature from image No. 91 , 112 images in total\n",
      "extracting feature from image No. 92 , 112 images in total\n",
      "extracting feature from image No. 93 , 112 images in total\n",
      "extracting feature from image No. 94 , 112 images in total\n",
      "extracting feature from image No. 95 , 112 images in total\n",
      "extracting feature from image No. 96 , 112 images in total\n",
      "extracting feature from image No. 97 , 112 images in total\n",
      "extracting feature from image No. 98 , 112 images in total\n",
      "extracting feature from image No. 99 , 112 images in total\n",
      "extracting feature from image No. 100 , 112 images in total\n",
      "extracting feature from image No. 101 , 112 images in total\n",
      "extracting feature from image No. 102 , 112 images in total\n",
      "extracting feature from image No. 103 , 112 images in total\n",
      "extracting feature from image No. 104 , 112 images in total\n",
      "extracting feature from image No. 105 , 112 images in total\n",
      "extracting feature from image No. 106 , 112 images in total\n",
      "extracting feature from image No. 107 , 112 images in total\n",
      "extracting feature from image No. 108 , 112 images in total\n",
      "extracting feature from image No. 109 , 112 images in total\n",
      "extracting feature from image No. 110 , 112 images in total\n",
      "extracting feature from image No. 111 , 112 images in total\n",
      "extracting feature from image No. 112 , 112 images in total\n"
     ]
    }
   ],
   "source": [
    "feats_test = []\n",
    "names_test = []\n",
    "dir_test = [dir1[1], dir1[3]]\n",
    "for direktori in dir_test:\n",
    "    img_list = get_imlist(direktori)\n",
    "    for i, img_path in enumerate(img_list):\n",
    "        data = preprocess_norm(img_path)\n",
    "        norm_feat = model.predict(data)\n",
    "        img_name = os.path.split(img_path)[1]\n",
    "        feats_test.append(norm_feat)\n",
    "        if 'AM' in img_name:\n",
    "            names_test.append('acral melanoma')\n",
    "        else:\n",
    "            names_test.append('benign nevi')\n",
    "        print(\"extracting feature from image No. %d , %d images in total\" %((i+1), len(img_list)))\n",
    "        \n",
    "\n",
    "feats_test = np.array(feats_test)\n",
    "names_test = np.array(names_test)"
   ]
  },
  {
   "cell_type": "code",
   "execution_count": 9,
   "metadata": {},
   "outputs": [
    {
     "data": {
      "text/plain": [
       "(217, 1, 12800)"
      ]
     },
     "execution_count": 9,
     "metadata": {},
     "output_type": "execute_result"
    }
   ],
   "source": [
    "feats_test.shape"
   ]
  },
  {
   "cell_type": "code",
   "execution_count": 10,
   "metadata": {},
   "outputs": [
    {
     "data": {
      "text/plain": [
       "(217, 12800)"
      ]
     },
     "execution_count": 10,
     "metadata": {},
     "output_type": "execute_result"
    }
   ],
   "source": [
    "reshaped_feats_test = feats_test.reshape(feats_test.shape[0],feats_test.shape[2])\n",
    "reshaped_feats_test.shape"
   ]
  },
  {
   "cell_type": "code",
   "execution_count": 11,
   "metadata": {},
   "outputs": [
    {
     "data": {
      "text/plain": [
       "(217, 12800)"
      ]
     },
     "execution_count": 11,
     "metadata": {},
     "output_type": "execute_result"
    }
   ],
   "source": [
    "reshaped_feats_test.shape"
   ]
  },
  {
   "cell_type": "code",
   "execution_count": 12,
   "metadata": {},
   "outputs": [],
   "source": [
    "from sklearn.preprocessing import LabelEncoder\n",
    "\n",
    "x_test= reshaped_feats_test\n",
    "\n",
    "lb = LabelEncoder()\n",
    "y_test = lb.fit_transform(names_test)"
   ]
  },
  {
   "cell_type": "markdown",
   "metadata": {},
   "source": [
    "## Load SVM Model untuk Predict X_test"
   ]
  },
  {
   "cell_type": "code",
   "execution_count": 13,
   "metadata": {},
   "outputs": [],
   "source": [
    "import pickle\n",
    "\n",
    "# Load the model from the file\n",
    "with open(\"model_svm_K2S3.pkl\", \"rb\") as f:\n",
    "    svm_model = pickle.load(f)"
   ]
  },
  {
   "cell_type": "code",
   "execution_count": 14,
   "metadata": {},
   "outputs": [
    {
     "name": "stdout",
     "output_type": "stream",
     "text": [
      "                precision    recall  f1-score   support\n",
      "\n",
      "acral melanoma       0.85      0.81      0.83       105\n",
      "   benign nevi       0.83      0.87      0.85       112\n",
      "\n",
      "      accuracy                           0.84       217\n",
      "     macro avg       0.84      0.84      0.84       217\n",
      "  weighted avg       0.84      0.84      0.84       217\n",
      "\n",
      "Confusion Matrix\n",
      "[[85 20]\n",
      " [15 97]]\n",
      "acc score :  0.8387096774193549\n"
     ]
    }
   ],
   "source": [
    "from sklearn.metrics import confusion_matrix, classification_report, accuracy_score\n",
    "y_testSVM = svm_model.predict(x_test)\n",
    "\n",
    "y_pred = (y_testSVM > 0.5).astype(int)\n",
    "target_names = ['acral melanoma', 'benign nevi']\n",
    "print(classification_report(y_test, y_pred, target_names=target_names))\n",
    "\n",
    "print('Confusion Matrix')\n",
    "print(confusion_matrix(y_test, y_pred))\n",
    "print('acc score : ', svm_model.score(x_test,y_test))"
   ]
  },
  {
   "cell_type": "code",
   "execution_count": 15,
   "metadata": {},
   "outputs": [
    {
     "name": "stderr",
     "output_type": "stream",
     "text": [
      "C:\\Users\\Fadhlan\\Anaconda3\\envs\\tf2.6\\lib\\site-packages\\sklearn\\utils\\deprecation.py:87: FutureWarning: Function plot_confusion_matrix is deprecated; Function `plot_confusion_matrix` is deprecated in 1.0 and will be removed in 1.2. Use one of the class methods: ConfusionMatrixDisplay.from_predictions or ConfusionMatrixDisplay.from_estimator.\n",
      "  warnings.warn(msg, category=FutureWarning)\n"
     ]
    },
    {
     "data": {
      "image/png": "[encoded data removed]",
      "text/plain": [
       "<Figure size 432x288 with 2 Axes>"
      ]
     },
     "metadata": {
      "needs_background": "light"
     },
     "output_type": "display_data"
    }
   ],
   "source": [
    "import matplotlib.pyplot as plt\n",
    "from sklearn.metrics import plot_confusion_matrix\n",
    "\n",
    "plot_confusion_matrix(svm_model, x_test, y_test, display_labels=target_names)  \n",
    "plt.savefig('D:/SEMESTER 7/Pembelajaran Mesin/Gambar Hasil/cm-skenario-3.svg')\n",
    "plt.show()"
   ]
  },
  {
   "cell_type": "code",
   "execution_count": 16,
   "metadata": {},
   "outputs": [
    {
     "data": {
      "image/png": "[encoded data removed]",
      "text/plain": [
       "<Figure size 432x288 with 1 Axes>"
      ]
     },
     "metadata": {
      "needs_background": "light"
     },
     "output_type": "display_data"
    }
   ],
   "source": [
    "from sklearn.metrics import  precision_recall_curve, auc, roc_curve, roc_auc_score\n",
    "import matplotlib.pyplot as plt\n",
    "fpr, tpr, _ = roc_curve(y_test, y_pred)\n",
    "roc_auc = auc(fpr, tpr)\n",
    "\n",
    "plt.figure()\n",
    "lw = 2\n",
    "plt.plot(fpr, tpr, color='#ffba93',\n",
    "         lw=lw, label='ROC curve (area = %0.3f)' % roc_auc)\n",
    "plt.plot([0, 1], [0, 1], color='#7579e7', lw=lw, linestyle='--')\n",
    "plt.xlim([0.0, 1.0])\n",
    "plt.ylim([0.0, 1.05])\n",
    "plt.xlabel('False Positive Rate')\n",
    "plt.ylabel('True Positive Rate')\n",
    "plt.title('AUC-ROC Skenario 3')\n",
    "plt.legend(loc=\"lower right\")\n",
    "plt.savefig('D:/SEMESTER 7/Pembelajaran Mesin/Gambar Hasil/auc-roc-skenario-3.svg')\n",
    "plt.show()"
   ]
  },
  {
   "cell_type": "code",
   "execution_count": 18,
   "metadata": {},
   "outputs": [
    {
     "data": {
      "text/plain": [
       "{'C': 1000, 'gamma': 1e-05, 'kernel': 'rbf'}"
      ]
     },
     "execution_count": 18,
     "metadata": {},
     "output_type": "execute_result"
    }
   ],
   "source": [
    "svm_model.best_params_"
   ]
  },
  {
   "cell_type": "code",
   "execution_count": null,
   "metadata": {},
   "outputs": [],
   "source": []
  }
 ],
 "metadata": {
  "colab": {
   "collapsed_sections": [],
   "name": "Load_data.ipynb",
   "provenance": []
  },
  "kernelspec": {
   "display_name": "tf2.6",
   "language": "python",
   "name": "tf2.6"
  },
  "language_info": {
   "codemirror_mode": {
    "name": "ipython",
    "version": 3
   },
   "file_extension": ".py",
   "mimetype": "text/x-python",
   "name": "python",
   "nbconvert_exporter": "python",
   "pygments_lexer": "ipython3",
   "version": "3.9.0"
  }
 },
 "nbformat": 4,
 "nbformat_minor": 1
}
