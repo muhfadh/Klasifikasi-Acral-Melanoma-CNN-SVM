{
 "cells": [
  {
   "cell_type": "markdown",
   "metadata": {},
   "source": [
    "### Code untuk di Jupyter notebook"
   ]
  },
  {
   "cell_type": "code",
   "execution_count": 1,
   "metadata": {},
   "outputs": [
    {
     "name": "stdout",
     "output_type": "stream",
     "text": [
      "D:\\SEMESTER 7\\Pembelajaran Mesin\\Dataset\\process image-3 [90 10]\n"
     ]
    }
   ],
   "source": [
    "%cd D:\\SEMESTER 7\\Pembelajaran Mesin\\Dataset\\process image-3 [90 10]"
   ]
  },
  {
   "cell_type": "code",
   "execution_count": 2,
   "metadata": {},
   "outputs": [
    {
     "name": "stdout",
     "output_type": "stream",
     "text": [
      " Volume in drive D is Data\n",
      " Volume Serial Number is BC6D-4CE5\n",
      "\n",
      " Directory of D:\\SEMESTER 7\\Pembelajaran Mesin\\Dataset\\process image-3 [90 10]\n",
      "\n",
      "14/12/2022  10:39    <DIR>          .\n",
      "14/12/2022  10:39    <DIR>          ..\n",
      "05/12/2022  04:50        16.758.387 extracted_dataset.hdf5\n",
      "13/12/2022  21:33         6.307.048 feature_model_K1S1.h5\n",
      "12/12/2022  00:50         6.307.048 K1S1.h5\n",
      "12/12/2022  07:17        80.170.824 K1S4.h5\n",
      "27/12/2021  08:27    <DIR>          model\n",
      "14/12/2022  12:35        19.046.272 model_K1S1.h5\n",
      "14/12/2022  09:54        80.170.824 model_K1S4.h5\n",
      "14/12/2022  10:31       333.521.728 model_K1S5.h5\n",
      "14/12/2022  10:39        97.555.136 model_K1S6.h5\n",
      "14/12/2022  12:35        15.586.869 model_svm_K2S1.pkl\n",
      "14/12/2022  10:18        57.827.538 model_svm_K2S4.pkl\n",
      "14/12/2022  10:35           642.378 model_svm_K2S5.pkl\n",
      "14/12/2022  10:39           138.384 model_svm_K2S6.pkl\n",
      "13/12/2022  20:25    <DIR>          new model\n",
      "13/12/2022  21:34    <DIR>          saved model\n",
      "12/12/2022  00:50        25.726.443 SVM_K2S1.pkl\n",
      "12/12/2022  08:03        57.827.538 SVM_K2S4.pkl\n",
      "13/12/2021  14:58    <DIR>          testing\n",
      "13/12/2021  14:58    <DIR>          training\n",
      "              14 File(s)    797.586.417 bytes\n",
      "               7 Dir(s)  530.358.652.928 bytes free\n"
     ]
    }
   ],
   "source": [
    "%ls"
   ]
  },
  {
   "cell_type": "code",
   "execution_count": 3,
   "metadata": {
    "colab": {
     "base_uri": "https://localhost:8080/"
    },
    "id": "TEcBa0Gz1MmB",
    "outputId": "f15277d6-a608-4d27-e80f-9d90dbbc6f22"
   },
   "outputs": [],
   "source": [
    "import os\n",
    "# path di jupyter\n",
    "base_dataset = 'D:/SEMESTER 7/Pembelajaran Mesin/Dataset/process image-3 [90 10]/'"
   ]
  },
  {
   "cell_type": "code",
   "execution_count": 4,
   "metadata": {
    "pycharm": {
     "name": "#%%\n"
    }
   },
   "outputs": [],
   "source": [
    "# inisialisasi direktori data train dan validasi beserta data per kategori\n",
    "dir1 = [r'D:/SEMESTER 7/Pembelajaran Mesin/Dataset/process image-3 [90 10]/training/acral melanoma/',\n",
    "        r'D:/SEMESTER 7/Pembelajaran Mesin/Dataset/process image-3 [90 10]/testing/acral melanoma/',\n",
    "        r'D:/SEMESTER 7/Pembelajaran Mesin/Dataset/process image-3 [90 10]/training/benign nevi/',\n",
    "        r'D:/SEMESTER 7/Pembelajaran Mesin/Dataset/process image-3 [90 10]/testing/benign nevi/']"
   ]
  },
  {
   "cell_type": "markdown",
   "metadata": {},
   "source": [
    "# CNN Feature Extraction"
   ]
  },
  {
   "cell_type": "code",
   "execution_count": 5,
   "metadata": {},
   "outputs": [],
   "source": [
    "%matplotlib inline\n",
    "from keras.preprocessing import image\n",
    "from keras.models import Model\n",
    "from keras.layers import Input\n",
    "from keras.layers import Dense\n",
    "from keras.layers import Flatten, Dropout \n",
    "from keras.layers.convolutional import Conv2D\n",
    "from keras.layers.pooling import MaxPooling2D\n",
    "from keras.layers.merge import concatenate\n",
    "from PIL import Image\n",
    "\n",
    "import numpy as np\n",
    "from numpy import linalg as LA\n",
    "import matplotlib.pyplot as plt\n",
    "import matplotlib.image as mpimg\n",
    "import time\n",
    "import os"
   ]
  },
  {
   "cell_type": "code",
   "execution_count": 6,
   "metadata": {},
   "outputs": [],
   "source": [
    "def preprocess(img,input_size):\n",
    "    nimg = img.convert('RGB').resize(input_size)\n",
    "    img_arr = (np.array(nimg))\n",
    "    return img_arr\n",
    "\n",
    "def reshape(imgs_arr):\n",
    "    return np.stack(imgs_arr, axis=0)\n",
    "\n",
    "def get_imlist(path):\n",
    "    return [os.path.join(path,f) for f in os.listdir(path) if f.endswith('.jpg') or f.endswith('.jpeg') or f.endswith('.JPG') or f.endswith('.JPEG')]\n",
    "\n",
    "def preprocess_norm(img_path):\n",
    "    im = Image.open(img_path)\n",
    "    X = preprocess(im,(224,224))\n",
    "    X = reshape([X])\n",
    "    info = np.iinfo(X.dtype) # Get the information of the incoming image type\n",
    "    data = X.astype(np.float32) / info.max # normalize the data to 0 - 1\n",
    "    return data"
   ]
  },
  {
   "cell_type": "code",
   "execution_count": 7,
   "metadata": {},
   "outputs": [],
   "source": [
    "from keras.models import load_model\n",
    "loaded_model = load_model('model_K1S5.h5')\n",
    "model = Model(inputs=loaded_model.input, outputs=loaded_model.layers[-2].output)"
   ]
  },
  {
   "cell_type": "code",
   "execution_count": 8,
   "metadata": {},
   "outputs": [
    {
     "name": "stdout",
     "output_type": "stream",
     "text": [
      "extracting feature from image No. 1 , 35 images in total\n",
      "extracting feature from image No. 2 , 35 images in total\n",
      "extracting feature from image No. 3 , 35 images in total\n",
      "extracting feature from image No. 4 , 35 images in total\n",
      "extracting feature from image No. 5 , 35 images in total\n",
      "extracting feature from image No. 6 , 35 images in total\n",
      "extracting feature from image No. 7 , 35 images in total\n",
      "extracting feature from image No. 8 , 35 images in total\n",
      "extracting feature from image No. 9 , 35 images in total\n",
      "extracting feature from image No. 10 , 35 images in total\n",
      "extracting feature from image No. 11 , 35 images in total\n",
      "extracting feature from image No. 12 , 35 images in total\n",
      "extracting feature from image No. 13 , 35 images in total\n",
      "extracting feature from image No. 14 , 35 images in total\n",
      "extracting feature from image No. 15 , 35 images in total\n",
      "extracting feature from image No. 16 , 35 images in total\n",
      "extracting feature from image No. 17 , 35 images in total\n",
      "extracting feature from image No. 18 , 35 images in total\n",
      "extracting feature from image No. 19 , 35 images in total\n",
      "extracting feature from image No. 20 , 35 images in total\n",
      "extracting feature from image No. 21 , 35 images in total\n",
      "extracting feature from image No. 22 , 35 images in total\n",
      "extracting feature from image No. 23 , 35 images in total\n",
      "extracting feature from image No. 24 , 35 images in total\n",
      "extracting feature from image No. 25 , 35 images in total\n",
      "extracting feature from image No. 26 , 35 images in total\n",
      "extracting feature from image No. 27 , 35 images in total\n",
      "extracting feature from image No. 28 , 35 images in total\n",
      "extracting feature from image No. 29 , 35 images in total\n",
      "extracting feature from image No. 30 , 35 images in total\n",
      "extracting feature from image No. 31 , 35 images in total\n",
      "extracting feature from image No. 32 , 35 images in total\n",
      "extracting feature from image No. 33 , 35 images in total\n",
      "extracting feature from image No. 34 , 35 images in total\n",
      "extracting feature from image No. 35 , 35 images in total\n",
      "extracting feature from image No. 1 , 37 images in total\n",
      "extracting feature from image No. 2 , 37 images in total\n",
      "extracting feature from image No. 3 , 37 images in total\n",
      "extracting feature from image No. 4 , 37 images in total\n",
      "extracting feature from image No. 5 , 37 images in total\n",
      "extracting feature from image No. 6 , 37 images in total\n",
      "extracting feature from image No. 7 , 37 images in total\n",
      "extracting feature from image No. 8 , 37 images in total\n",
      "extracting feature from image No. 9 , 37 images in total\n",
      "extracting feature from image No. 10 , 37 images in total\n",
      "extracting feature from image No. 11 , 37 images in total\n",
      "extracting feature from image No. 12 , 37 images in total\n",
      "extracting feature from image No. 13 , 37 images in total\n",
      "extracting feature from image No. 14 , 37 images in total\n",
      "extracting feature from image No. 15 , 37 images in total\n",
      "extracting feature from image No. 16 , 37 images in total\n",
      "extracting feature from image No. 17 , 37 images in total\n",
      "extracting feature from image No. 18 , 37 images in total\n",
      "extracting feature from image No. 19 , 37 images in total\n",
      "extracting feature from image No. 20 , 37 images in total\n",
      "extracting feature from image No. 21 , 37 images in total\n",
      "extracting feature from image No. 22 , 37 images in total\n",
      "extracting feature from image No. 23 , 37 images in total\n",
      "extracting feature from image No. 24 , 37 images in total\n",
      "extracting feature from image No. 25 , 37 images in total\n",
      "extracting feature from image No. 26 , 37 images in total\n",
      "extracting feature from image No. 27 , 37 images in total\n",
      "extracting feature from image No. 28 , 37 images in total\n",
      "extracting feature from image No. 29 , 37 images in total\n",
      "extracting feature from image No. 30 , 37 images in total\n",
      "extracting feature from image No. 31 , 37 images in total\n",
      "extracting feature from image No. 32 , 37 images in total\n",
      "extracting feature from image No. 33 , 37 images in total\n",
      "extracting feature from image No. 34 , 37 images in total\n",
      "extracting feature from image No. 35 , 37 images in total\n",
      "extracting feature from image No. 36 , 37 images in total\n",
      "extracting feature from image No. 37 , 37 images in total\n"
     ]
    }
   ],
   "source": [
    "feats_test = []\n",
    "names_test = []\n",
    "dir_test = [dir1[1], dir1[3]]\n",
    "for direktori in dir_test:\n",
    "    img_list = get_imlist(direktori)\n",
    "    for i, img_path in enumerate(img_list):\n",
    "        data = preprocess_norm(img_path)\n",
    "        norm_feat = model.predict(data)\n",
    "        img_name = os.path.split(img_path)[1]\n",
    "        feats_test.append(norm_feat)\n",
    "        if 'AM' in img_name:\n",
    "            names_test.append('acral melanoma')\n",
    "        else:\n",
    "            names_test.append('benign nevi')\n",
    "        print(\"extracting feature from image No. %d , %d images in total\" %((i+1), len(img_list)))\n",
    "        \n",
    "\n",
    "feats_test = np.array(feats_test)\n",
    "names_test = np.array(names_test)"
   ]
  },
  {
   "cell_type": "code",
   "execution_count": 9,
   "metadata": {},
   "outputs": [
    {
     "data": {
      "text/plain": [
       "(72, 1, 2048)"
      ]
     },
     "execution_count": 9,
     "metadata": {},
     "output_type": "execute_result"
    }
   ],
   "source": [
    "feats_test.shape"
   ]
  },
  {
   "cell_type": "code",
   "execution_count": 10,
   "metadata": {},
   "outputs": [
    {
     "data": {
      "text/plain": [
       "(72, 2048)"
      ]
     },
     "execution_count": 10,
     "metadata": {},
     "output_type": "execute_result"
    }
   ],
   "source": [
    "reshaped_feats_test = feats_test.reshape(feats_test.shape[0],feats_test.shape[2])\n",
    "reshaped_feats_test.shape"
   ]
  },
  {
   "cell_type": "code",
   "execution_count": 11,
   "metadata": {},
   "outputs": [
    {
     "data": {
      "text/plain": [
       "(72, 2048)"
      ]
     },
     "execution_count": 11,
     "metadata": {},
     "output_type": "execute_result"
    }
   ],
   "source": [
    "reshaped_feats_test.shape"
   ]
  },
  {
   "cell_type": "code",
   "execution_count": 12,
   "metadata": {},
   "outputs": [],
   "source": [
    "from sklearn.preprocessing import LabelEncoder\n",
    "\n",
    "x_test= reshaped_feats_test\n",
    "\n",
    "lb = LabelEncoder()\n",
    "y_test = lb.fit_transform(names_test)"
   ]
  },
  {
   "cell_type": "markdown",
   "metadata": {},
   "source": [
    "## Load SVM Model untuk Predict X_test"
   ]
  },
  {
   "cell_type": "code",
   "execution_count": 13,
   "metadata": {},
   "outputs": [],
   "source": [
    "import pickle\n",
    "\n",
    "# Load the model from the file\n",
    "with open(\"model_svm_K2S5.pkl\", \"rb\") as f:\n",
    "    svm_model = pickle.load(f)"
   ]
  },
  {
   "cell_type": "code",
   "execution_count": 14,
   "metadata": {},
   "outputs": [
    {
     "name": "stdout",
     "output_type": "stream",
     "text": [
      "                precision    recall  f1-score   support\n",
      "\n",
      "acral melanoma       0.89      0.94      0.92        35\n",
      "   benign nevi       0.94      0.89      0.92        37\n",
      "\n",
      "      accuracy                           0.92        72\n",
      "     macro avg       0.92      0.92      0.92        72\n",
      "  weighted avg       0.92      0.92      0.92        72\n",
      "\n",
      "Confusion Matrix\n",
      "[[33  2]\n",
      " [ 4 33]]\n",
      "acc score :  0.9166666666666666\n"
     ]
    }
   ],
   "source": [
    "from sklearn.metrics import confusion_matrix, classification_report, accuracy_score\n",
    "y_testSVM = svm_model.predict(x_test)\n",
    "\n",
    "y_pred = (y_testSVM > 0.5).astype(int)\n",
    "target_names = ['acral melanoma', 'benign nevi']\n",
    "print(classification_report(y_test, y_pred, target_names=target_names))\n",
    "\n",
    "print('Confusion Matrix')\n",
    "print(confusion_matrix(y_test, y_pred))\n",
    "print('acc score : ', svm_model.score(x_test,y_test))"
   ]
  },
  {
   "cell_type": "code",
   "execution_count": 15,
   "metadata": {},
   "outputs": [
    {
     "name": "stderr",
     "output_type": "stream",
     "text": [
      "C:\\Users\\Fadhlan\\Anaconda3\\envs\\tf2.6\\lib\\site-packages\\sklearn\\utils\\deprecation.py:87: FutureWarning: Function plot_confusion_matrix is deprecated; Function `plot_confusion_matrix` is deprecated in 1.0 and will be removed in 1.2. Use one of the class methods: ConfusionMatrixDisplay.from_predictions or ConfusionMatrixDisplay.from_estimator.\n",
      "  warnings.warn(msg, category=FutureWarning)\n"
     ]
    },
    {
     "data": {
      "image/png": "[encoded data removed]",
      "text/plain": [
       "<Figure size 432x288 with 2 Axes>"
      ]
     },
     "metadata": {
      "needs_background": "light"
     },
     "output_type": "display_data"
    }
   ],
   "source": [
    "import matplotlib.pyplot as plt\n",
    "from sklearn.metrics import plot_confusion_matrix\n",
    "\n",
    "plot_confusion_matrix(svm_model, x_test, y_test, display_labels=target_names)  \n",
    "plt.savefig('D:/SEMESTER 7/Pembelajaran Mesin/Gambar Hasil/cm-skenario-5.svg')\n",
    "plt.show()"
   ]
  },
  {
   "cell_type": "code",
   "execution_count": 16,
   "metadata": {},
   "outputs": [
    {
     "data": {
      "image/png": "[encoded data removed]",
      "text/plain": [
       "<Figure size 432x288 with 1 Axes>"
      ]
     },
     "metadata": {
      "needs_background": "light"
     },
     "output_type": "display_data"
    }
   ],
   "source": [
    "from sklearn.metrics import  precision_recall_curve, auc, roc_curve, roc_auc_score\n",
    "import matplotlib.pyplot as plt\n",
    "fpr, tpr, _ = roc_curve(y_test, y_pred)\n",
    "roc_auc = auc(fpr, tpr)\n",
    "\n",
    "plt.figure()\n",
    "lw = 2\n",
    "plt.plot(fpr, tpr, color='#ffba93',\n",
    "         lw=lw, label='ROC curve (area = %0.3f)' % roc_auc)\n",
    "plt.plot([0, 1], [0, 1], color='#7579e7', lw=lw, linestyle='--')\n",
    "plt.xlim([0.0, 1.0])\n",
    "plt.ylim([0.0, 1.05])\n",
    "plt.xlabel('False Positive Rate')\n",
    "plt.ylabel('True Positive Rate')\n",
    "plt.title('AUC-ROC Skenario 5')\n",
    "plt.legend(loc=\"lower right\")\n",
    "plt.savefig('D:/SEMESTER 7/Pembelajaran Mesin/Gambar Hasil/auc-roc-skenario-5.svg')\n",
    "plt.show()"
   ]
  },
  {
   "cell_type": "code",
   "execution_count": 17,
   "metadata": {},
   "outputs": [
    {
     "data": {
      "text/plain": [
       "{'C': 0.1, 'gamma': 0.1, 'kernel': 'linear'}"
      ]
     },
     "execution_count": 17,
     "metadata": {},
     "output_type": "execute_result"
    }
   ],
   "source": [
    "svm_model.best_params_"
   ]
  },
  {
   "cell_type": "code",
   "execution_count": null,
   "metadata": {},
   "outputs": [],
   "source": []
  }
 ],
 "metadata": {
  "colab": {
   "collapsed_sections": [],
   "name": "Load_data.ipynb",
   "provenance": []
  },
  "kernelspec": {
   "display_name": "tf2.6",
   "language": "python",
   "name": "tf2.6"
  },
  "language_info": {
   "codemirror_mode": {
    "name": "ipython",
    "version": 3
   },
   "file_extension": ".py",
   "mimetype": "text/x-python",
   "name": "python",
   "nbconvert_exporter": "python",
   "pygments_lexer": "ipython3",
   "version": "3.9.0"
  }
 },
 "nbformat": 4,
 "nbformat_minor": 1
}
